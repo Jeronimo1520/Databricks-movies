{
 "cells": [
  {
   "cell_type": "markdown",
   "metadata": {
    "application/vnd.databricks.v1+cell": {
     "cellMetadata": {
      "byteLimit": 2048000,
      "rowLimit": 10000
     },
     "inputWidgets": {},
     "nuid": "8dcfde35-3a5d-438b-a30e-e90e478a3760",
     "showTitle": false,
     "tableResultSettingsMap": {},
     "title": ""
    }
   },
   "source": [
    "### Acceder a Azure Data Lake Storage mediante Token SAS\n",
    "\n",
    "[Docs](https://learn.microsoft.com/en-us/azure/databricks/connect/storage/azure-storage#access-azure-data-lake-storage-gen2-or-blob-storage-using-a-sas-token)\n",
    "\n",
    "1. Establecer la configuración de spark \"Token SAS\"\n",
    "2. Listar archivos del contenedor \"demo\".\n",
    "3. Leer datos del archivo \"movie.csv\".\n",
    "\n",
    "Para mount\n",
    "\n",
    "1. Utiizar el método \"mount\" de \"utility\" para montar el almacenamiento\n",
    "2. Explorar otras utilidades del sistema de archivos relacionados con el montaje (list all mounts, unmounts)\n",
    "\n",
    "Token sas se genera a nivel de contenedor"
   ]
  },
  {
   "cell_type": "markdown",
   "metadata": {
    "application/vnd.databricks.v1+cell": {
     "cellMetadata": {
      "byteLimit": 2048000,
      "rowLimit": 10000
     },
     "inputWidgets": {},
     "nuid": "a930cb74-b11c-4f69-a9d1-9eb725b84e8c",
     "showTitle": false,
     "tableResultSettingsMap": {},
     "title": ""
    }
   },
   "source": [
    "El montaje debería hacerse con Entra ID, debido a mis condiciones de espacio de trabajo y no tener acceso a ello, encontré la forma de hacer un montaje con Token SAS, con el código  debajo, la diferencia más notable es que se usa el protocolo WASBS en vez de ABFSS"
   ]
  },
  {
   "cell_type": "code",
   "execution_count": 0,
   "metadata": {
    "application/vnd.databricks.v1+cell": {
     "cellMetadata": {
      "byteLimit": 2048000,
      "rowLimit": 10000
     },
     "inputWidgets": {},
     "nuid": "340bdc95-2e63-4e31-b682-683040f778a2",
     "showTitle": false,
     "tableResultSettingsMap": {},
     "title": ""
    }
   },
   "outputs": [],
   "source": [
    "def mount_adls(storage_account_name, container_name, token):\n",
    "    #Credenciales y config\n",
    "    sas_key = dbutils.secrets.get(scope=\"movie-history-secret-scope\", key=token)\n",
    "    source_string = f\"wasbs://{container_name}@{storage_account_name}.blob.core.windows.net/\"\n",
    "    conf_key = f\"fs.azure.sas.{container_name}.{storage_account_name}.blob.core.windows.net\"\n",
    "    mount_point = f\"/mnt/moviehistory/{container_name}\"\n",
    "\n",
    "    #Desmontar si ya existe el mount\n",
    "    if any(mount.mountPoint == mount_point for mount in dbutils.fs.mounts()):\n",
    "        dbutils.fs.unmount(mount_point)\n",
    "\n",
    "    #Mount\n",
    "    try:\n",
    "        dbutils.fs.mount(\n",
    "            source=source_string,\n",
    "            mount_point=mount_point,\n",
    "            extra_configs={conf_key: sas_key}\n",
    "        )\n",
    "        print(f\"Montaje exitoso en {mount_point}.\")\n",
    "    except Exception as e:\n",
    "        print(f\"ERROR: No se pudo montar {mount_point}. Detalles: {str(e)}\")\n",
    "\n",
    "    display(dbutils.fs.mounts())"
   ]
  },
  {
   "cell_type": "markdown",
   "metadata": {
    "application/vnd.databricks.v1+cell": {
     "cellMetadata": {
      "byteLimit": 2048000,
      "rowLimit": 10000
     },
     "inputWidgets": {},
     "nuid": "2ba67da7-e2a2-4674-9828-d9b35876b523",
     "showTitle": false,
     "tableResultSettingsMap": {},
     "title": ""
    }
   },
   "source": [
    "#### Montar hacia el contenedor \"bronze\""
   ]
  },
  {
   "cell_type": "code",
   "execution_count": 0,
   "metadata": {
    "application/vnd.databricks.v1+cell": {
     "cellMetadata": {
      "byteLimit": 2048000,
      "rowLimit": 10000
     },
     "inputWidgets": {},
     "nuid": "98f7bf2b-30ee-4b6a-8b7c-1c7eaca09d9d",
     "showTitle": false,
     "tableResultSettingsMap": {},
     "title": ""
    }
   },
   "outputs": [],
   "source": [
    "mount_adls(\"moviehistorycoursedbc\", \"bronze\",'bronze-sas')"
   ]
  },
  {
   "cell_type": "markdown",
   "metadata": {
    "application/vnd.databricks.v1+cell": {
     "cellMetadata": {
      "byteLimit": 2048000,
      "rowLimit": 10000
     },
     "inputWidgets": {},
     "nuid": "3686b70b-bb93-4e01-8892-6eaa218f7e4a",
     "showTitle": false,
     "tableResultSettingsMap": {},
     "title": ""
    }
   },
   "source": [
    "#### Montar hacia el contenedor \"silver\""
   ]
  },
  {
   "cell_type": "code",
   "execution_count": 0,
   "metadata": {
    "application/vnd.databricks.v1+cell": {
     "cellMetadata": {
      "byteLimit": 2048000,
      "rowLimit": 10000
     },
     "inputWidgets": {},
     "nuid": "5751c983-52e1-43db-be6d-c4d48da798e7",
     "showTitle": false,
     "tableResultSettingsMap": {},
     "title": ""
    }
   },
   "outputs": [],
   "source": [
    "mount_adls(\"moviehistorycoursedbc\", \"silver\", 'silver-sas')"
   ]
  },
  {
   "cell_type": "markdown",
   "metadata": {
    "application/vnd.databricks.v1+cell": {
     "cellMetadata": {
      "byteLimit": 2048000,
      "rowLimit": 10000
     },
     "inputWidgets": {},
     "nuid": "bd5f0889-5af5-454c-928e-e3bf456dd3bb",
     "showTitle": false,
     "tableResultSettingsMap": {},
     "title": ""
    }
   },
   "source": [
    "#### Montar hacia el contenedor \"gold\""
   ]
  },
  {
   "cell_type": "code",
   "execution_count": 0,
   "metadata": {
    "application/vnd.databricks.v1+cell": {
     "cellMetadata": {
      "byteLimit": 2048000,
      "rowLimit": 10000
     },
     "inputWidgets": {},
     "nuid": "9584edd3-d4a2-440e-8c58-0d72bb7a95e0",
     "showTitle": false,
     "tableResultSettingsMap": {},
     "title": ""
    }
   },
   "outputs": [],
   "source": [
    "mount_adls(\"moviehistorycoursedbc\", \"gold\", 'gold-sas')"
   ]
  },
  {
   "cell_type": "code",
   "execution_count": 0,
   "metadata": {
    "application/vnd.databricks.v1+cell": {
     "cellMetadata": {
      "byteLimit": 2048000,
      "rowLimit": 10000
     },
     "inputWidgets": {},
     "nuid": "ce8e5447-3c14-4cfa-8579-50d115a3cb46",
     "showTitle": false,
     "tableResultSettingsMap": {},
     "title": ""
    }
   },
   "outputs": [],
   "source": [
    "# Definir los parámetros\n",
    "storage_account = \"moviehistorycoursedbc\"\n",
    "container = \"demo\"\n",
    "mount_point = f\"/mnt/moviehistory/demo\"\n",
    "\n",
    "# Obtener el token SAS desde Azure Key Vault utilizando un Secret Scope\n",
    "sas_key = dbutils.secrets.get(scope=\"movie-history-secret-scope\", key=\"movie-access-token-sas-1\")\n",
    "\n",
    "# Intentar desmontar el punto de montaje si ya existe\n",
    "try:\n",
    "    dbutils.fs.unmount(mount_point)\n",
    "    print(f\"{mount_point} desmontado exitosamente.\")\n",
    "except Exception as e:\n",
    "    print(f\"No se pudo desmontar {mount_point}. Es posible que no estuviera montado. Detalles: {str(e)}\")\n",
    "\n",
    "# Definir la cadena de origen y la clave de configuración\n",
    "source_string = f\"wasbs://{container}@{storage_account}.blob.core.windows.net/\"\n",
    "conf_key = f\"fs.azure.sas.{container}.{storage_account}.blob.core.windows.net\"\n",
    "\n",
    "# Intentar montar el contenedor\n",
    "try:\n",
    "    dbutils.fs.mount(\n",
    "        source=source_string,\n",
    "        mount_point=mount_point,\n",
    "        extra_configs={conf_key: sas_key}\n",
    "    )\n",
    "    print(f\"Montaje exitoso en {mount_point}.\")\n",
    "except Exception as e:\n",
    "    print(f\"ERROR: No se pudo montar {mount_point}. Detalles: {str(e)}\")\n"
   ]
  },
  {
   "cell_type": "code",
   "execution_count": 0,
   "metadata": {
    "application/vnd.databricks.v1+cell": {
     "cellMetadata": {
      "byteLimit": 2048000,
      "rowLimit": 10000
     },
     "inputWidgets": {},
     "nuid": "c7d17e2a-f62a-49ca-a535-2e4e9ec86914",
     "showTitle": false,
     "tableResultSettingsMap": {},
     "title": ""
    }
   },
   "outputs": [],
   "source": [
    "display(dbutils.fs.ls(\"/mnt/moviehistory/demo\"))"
   ]
  },
  {
   "cell_type": "code",
   "execution_count": 0,
   "metadata": {
    "application/vnd.databricks.v1+cell": {
     "cellMetadata": {
      "byteLimit": 2048000,
      "rowLimit": 10000
     },
     "inputWidgets": {},
     "nuid": "66150a90-ed8e-4154-ad8d-27eb5741c03a",
     "showTitle": false,
     "tableResultSettingsMap": {},
     "title": ""
    }
   },
   "outputs": [],
   "source": [
    "display(spark.read.csv(\"/mnt/moviehistory/demo/movie.csv\", header=True))"
   ]
  },
  {
   "cell_type": "code",
   "execution_count": 0,
   "metadata": {
    "application/vnd.databricks.v1+cell": {
     "cellMetadata": {
      "byteLimit": 2048000,
      "rowLimit": 10000
     },
     "inputWidgets": {},
     "nuid": "95cec4fa-c9d1-48b8-85f5-f761d91e8cef",
     "showTitle": false,
     "tableResultSettingsMap": {},
     "title": ""
    }
   },
   "outputs": [],
   "source": [
    "display(dbutils.fs.mounts())"
   ]
  },
  {
   "cell_type": "code",
   "execution_count": 0,
   "metadata": {
    "application/vnd.databricks.v1+cell": {
     "cellMetadata": {
      "byteLimit": 2048000,
      "rowLimit": 10000
     },
     "inputWidgets": {},
     "nuid": "fd4a5c91-e366-4c1f-9b1c-1859df030c55",
     "showTitle": false,
     "tableResultSettingsMap": {},
     "title": ""
    }
   },
   "outputs": [],
   "source": [
    "dbutils.fs.unmount(\"/mnt/moviehistory/demo\")"
   ]
  },
  {
   "cell_type": "code",
   "execution_count": 0,
   "metadata": {
    "application/vnd.databricks.v1+cell": {
     "cellMetadata": {
      "byteLimit": 2048000,
      "rowLimit": 10000
     },
     "inputWidgets": {},
     "nuid": "0720b342-8a6d-48d6-8902-729b2e2990e3",
     "showTitle": false,
     "tableResultSettingsMap": {},
     "title": ""
    }
   },
   "outputs": [],
   "source": [
    "%fs\n",
    "ls /mnt/moviehistory/bronze"
   ]
  }
 ],
 "metadata": {
  "application/vnd.databricks.v1+notebook": {
   "computePreferences": null,
   "dashboards": [],
   "environmentMetadata": {
    "base_environment": "",
    "environment_version": "2"
   },
   "inputWidgetPreferences": null,
   "language": "python",
   "notebookMetadata": {
    "mostRecentlyExecutedCommandWithImplicitDF": {
     "commandId": 8373969783949234,
     "dataframes": [
      "_sqldf"
     ]
    },
    "pythonIndentUnit": 4
   },
   "notebookName": "08.mount_adls_container_for_project_using_token_sas",
   "widgets": {}
  },
  "language_info": {
   "name": "python"
  }
 },
 "nbformat": 4,
 "nbformat_minor": 0
}
