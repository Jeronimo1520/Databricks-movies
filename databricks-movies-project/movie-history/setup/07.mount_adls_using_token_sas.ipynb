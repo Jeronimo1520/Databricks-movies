{
 "cells": [
  {
   "cell_type": "markdown",
   "metadata": {
    "application/vnd.databricks.v1+cell": {
     "cellMetadata": {
      "byteLimit": 2048000,
      "rowLimit": 10000
     },
     "inputWidgets": {},
     "nuid": "8dcfde35-3a5d-438b-a30e-e90e478a3760",
     "showTitle": false,
     "tableResultSettingsMap": {},
     "title": ""
    }
   },
   "source": [
    "### Acceder a Azure Data Lake Storage mediante Token SAS\n",
    "\n",
    "[Docs](https://learn.microsoft.com/en-us/azure/databricks/connect/storage/azure-storage#access-azure-data-lake-storage-gen2-or-blob-storage-using-a-sas-token)\n",
    "\n",
    "1. Establecer la configuración de spark \"Token SAS\"\n",
    "2. Listar archivos del contenedor \"demo\".\n",
    "3. Leer datos del archivo \"movie.csv\".\n",
    "\n",
    "Para mount\n",
    "\n",
    "1. Utiizar el método \"mount\" de \"utility\" para montar el almacenamiento\n",
    "2. Explorar otras utilidades del sistema de archivos relacionados con el montaje (list all mounts, unmounts)\n",
    "\n",
    "Token sas se genera a nivel de contenedor"
   ]
  },
  {
   "cell_type": "markdown",
   "metadata": {
    "application/vnd.databricks.v1+cell": {
     "cellMetadata": {
      "byteLimit": 2048000,
      "rowLimit": 10000
     },
     "inputWidgets": {},
     "nuid": "a930cb74-b11c-4f69-a9d1-9eb725b84e8c",
     "showTitle": false,
     "tableResultSettingsMap": {},
     "title": ""
    }
   },
   "source": [
    "El montaje debería hacerse con Entra ID, debido a mis condiciones de espacio de trabajo y no tener acceso a ello, encontré la forma de hacer un montaje con Token SAS, con el código debajo, la diferencia más notable es que se usa el protocolo WASBS en vez de ABFSS"
   ]
  },
  {
   "cell_type": "code",
   "execution_count": 0,
   "metadata": {
    "application/vnd.databricks.v1+cell": {
     "cellMetadata": {},
     "inputWidgets": {},
     "nuid": "5d892c80-8c1e-4916-b849-50de1ff43d4d",
     "showTitle": false,
     "tableResultSettingsMap": {},
     "title": ""
    }
   },
   "outputs": [],
   "source": [
    "# Definir los parámetros\n",
    "storage_account = \"moviehistorycoursedbc\"\n",
    "container = \"demo\"\n",
    "mount_point = f\"/mnt/moviehistory/demo\"\n",
    "\n",
    "# Obtener el token SAS desde Azure Key Vault utilizando un Secret Scope\n",
    "sas_key = dbutils.secrets.get(scope=\"movie-history-secret-scope\", key=\"movie-access-token-sas-1\")\n",
    "\n",
    "# Intentar desmontar el punto de montaje si ya existe\n",
    "try:\n",
    "    dbutils.fs.unmount(mount_point)\n",
    "    print(f\"{mount_point} desmontado exitosamente.\")\n",
    "except Exception as e:\n",
    "    print(f\"No se pudo desmontar {mount_point}. Es posible que no estuviera montado. Detalles: {str(e)}\")\n",
    "\n",
    "# Definir la cadena de origen y la clave de configuración\n",
    "source_string = f\"wasbs://{container}@{storage_account}.blob.core.windows.net/\"\n",
    "conf_key = f\"fs.azure.sas.{container}.{storage_account}.blob.core.windows.net\"\n",
    "\n",
    "# Intentar montar el contenedor\n",
    "try:\n",
    "    dbutils.fs.mount(\n",
    "        source=source_string,\n",
    "        mount_point=mount_point,\n",
    "        extra_configs={conf_key: sas_key}\n",
    "    )\n",
    "    print(f\"Montaje exitoso en {mount_point}.\")\n",
    "except Exception as e:\n",
    "    print(f\"ERROR: No se pudo montar {mount_point}. Detalles: {str(e)}\")\n"
   ]
  },
  {
   "cell_type": "code",
   "execution_count": 0,
   "metadata": {
    "application/vnd.databricks.v1+cell": {
     "cellMetadata": {
      "byteLimit": 2048000,
      "rowLimit": 10000
     },
     "inputWidgets": {},
     "nuid": "ce8e5447-3c14-4cfa-8579-50d115a3cb46",
     "showTitle": false,
     "tableResultSettingsMap": {},
     "title": ""
    }
   },
   "outputs": [],
   "source": [
    "%scala\n",
    "val storageAccount = \"moviehistorycoursedbc\"\n",
    "val container = \"demo\"\n",
    "val sasKey = dbutils.secrets.get(scope=\"movie-history-secret-scope\", key=\"movie-access-token-sas-1\")\n",
    " \n",
    "val mountPoint = s\"/mnt/moviehistory/demo\"\n",
    " \n",
    " \n",
    "try {\n",
    "  dbutils.fs.unmount(s\"$mountPoint\") // Use this to unmount as needed\n",
    "} catch {\n",
    "  case ioe: java.rmi.RemoteException => println(s\"$mountPoint already unmounted\")\n",
    "}\n",
    " \n",
    " \n",
    "val sourceString = s\"wasbs://$container@$storageAccount.blob.core.windows.net/\"\n",
    "val confKey = s\"fs.azure.sas.$container.$storageAccount.blob.core.windows.net\"\n",
    " \n",
    " \n",
    " \n",
    "try {\n",
    "  dbutils.fs.mount(\n",
    "    source = sourceString,\n",
    "    mountPoint = mountPoint,\n",
    "    extraConfigs = Map(confKey -> sasKey)\n",
    "  )\n",
    "}\n",
    "catch {\n",
    "  case e: Exception =>\n",
    "    println(s\"*** ERROR: Unable to mount $mountPoint. Run previous cells to unmount first\")\n",
    "}"
   ]
  },
  {
   "cell_type": "code",
   "execution_count": 0,
   "metadata": {
    "application/vnd.databricks.v1+cell": {
     "cellMetadata": {
      "byteLimit": 2048000,
      "rowLimit": 10000
     },
     "inputWidgets": {},
     "nuid": "c7d17e2a-f62a-49ca-a535-2e4e9ec86914",
     "showTitle": false,
     "tableResultSettingsMap": {},
     "title": ""
    }
   },
   "outputs": [],
   "source": [
    "display(dbutils.fs.ls(\"/mnt/moviehistory/demo\"))"
   ]
  },
  {
   "cell_type": "code",
   "execution_count": 0,
   "metadata": {
    "application/vnd.databricks.v1+cell": {
     "cellMetadata": {
      "byteLimit": 2048000,
      "rowLimit": 10000
     },
     "inputWidgets": {},
     "nuid": "66150a90-ed8e-4154-ad8d-27eb5741c03a",
     "showTitle": false,
     "tableResultSettingsMap": {},
     "title": ""
    }
   },
   "outputs": [],
   "source": [
    "display(spark.read.csv(\"/mnt/moviehistory/demo/movie.csv\", header=True))"
   ]
  },
  {
   "cell_type": "code",
   "execution_count": 0,
   "metadata": {
    "application/vnd.databricks.v1+cell": {
     "cellMetadata": {
      "byteLimit": 2048000,
      "rowLimit": 10000
     },
     "inputWidgets": {},
     "nuid": "95cec4fa-c9d1-48b8-85f5-f761d91e8cef",
     "showTitle": false,
     "tableResultSettingsMap": {},
     "title": ""
    }
   },
   "outputs": [],
   "source": [
    "display(dbutils.fs.mounts())"
   ]
  },
  {
   "cell_type": "code",
   "execution_count": 0,
   "metadata": {
    "application/vnd.databricks.v1+cell": {
     "cellMetadata": {
      "byteLimit": 2048000,
      "rowLimit": 10000
     },
     "inputWidgets": {},
     "nuid": "fd4a5c91-e366-4c1f-9b1c-1859df030c55",
     "showTitle": false,
     "tableResultSettingsMap": {},
     "title": ""
    }
   },
   "outputs": [],
   "source": [
    "dbutils.fs.unmount(\"/mnt/moviehistory/demo\")"
   ]
  }
 ],
 "metadata": {
  "application/vnd.databricks.v1+notebook": {
   "computePreferences": null,
   "dashboards": [],
   "environmentMetadata": {
    "base_environment": "",
    "environment_version": "2"
   },
   "inputWidgetPreferences": null,
   "language": "python",
   "notebookMetadata": {
    "pythonIndentUnit": 4
   },
   "notebookName": "07.mount_adls_using_token_sas",
   "widgets": {}
  },
  "language_info": {
   "name": "python"
  }
 },
 "nbformat": 4,
 "nbformat_minor": 0
}
