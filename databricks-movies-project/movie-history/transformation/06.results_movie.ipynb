{
 "cells": [
  {
   "cell_type": "code",
   "execution_count": 0,
   "metadata": {
    "application/vnd.databricks.v1+cell": {
     "cellMetadata": {},
     "inputWidgets": {},
     "nuid": "6b8be06d-6814-4e7e-8acd-5b680e0c70ca",
     "showTitle": false,
     "tableResultSettingsMap": {},
     "title": ""
    }
   },
   "outputs": [],
   "source": [
    "USE movie_silver"
   ]
  },
  {
   "cell_type": "code",
   "execution_count": 0,
   "metadata": {
    "application/vnd.databricks.v1+cell": {
     "cellMetadata": {},
     "inputWidgets": {},
     "nuid": "fe5180d9-ebb0-4548-a456-15641ed2685d",
     "showTitle": false,
     "tableResultSettingsMap": {},
     "title": ""
    }
   },
   "outputs": [],
   "source": [
    "CREATE TABLE  movie_gold.results_movie\n",
    "USING PARQUET\n",
    "AS\n",
    "SELECT M.year_release_date, C.country_name, PCO.company_name, M.budget, M.revenue\n",
    "FROM movies M\n",
    "INNER JOIN productions_countries PC ON M.movie_id = PC.movie_id\n",
    "INNER JOIN countries C ON PC.country_id = C.country_id\n",
    "INNER JOIN movies_companies MC ON M.movie_id = MC.movie_id\n",
    "INNER JOIN productions_companies PCO ON MC.company_id = PCO.company_id\n"
   ]
  },
  {
   "cell_type": "code",
   "execution_count": 0,
   "metadata": {
    "application/vnd.databricks.v1+cell": {
     "cellMetadata": {},
     "inputWidgets": {},
     "nuid": "397bf91f-fed0-4a36-91f7-00331da0126e",
     "showTitle": false,
     "tableResultSettingsMap": {},
     "title": ""
    }
   },
   "outputs": [],
   "source": [
    "SELECT * FROM movie_gold.results_movie"
   ]
  }
 ],
 "metadata": {
  "application/vnd.databricks.v1+notebook": {
   "computePreferences": null,
   "dashboards": [],
   "environmentMetadata": {
    "base_environment": "",
    "environment_version": "2"
   },
   "inputWidgetPreferences": null,
   "language": "sql",
   "notebookMetadata": {},
   "notebookName": "06.results_movie",
   "widgets": {}
  },
  "language_info": {
   "name": "sql"
  }
 },
 "nbformat": 4,
 "nbformat_minor": 0
}
